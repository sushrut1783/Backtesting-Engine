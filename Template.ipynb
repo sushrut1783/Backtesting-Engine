{
 "cells": [
  {
   "cell_type": "code",
   "execution_count": 1,
   "metadata": {},
   "outputs": [],
   "source": [
    "import pandas as pd\n",
    "import numpy as np\n",
    "from backtest import Engine\n",
    "import matplotlib.pyplot as plt"
   ]
  },
  {
   "cell_type": "code",
   "execution_count": 2,
   "metadata": {},
   "outputs": [],
   "source": [
    "path = \"/Users/sushrutkagde/Documents/backtesting/2024-06-03 091500.000000000.csv\"\n",
    "# path = \"/Users/sushrutkagde/Documents/backtesting/BANKNIFTY.csv\""
   ]
  },
  {
   "cell_type": "code",
   "execution_count": 3,
   "metadata": {},
   "outputs": [],
   "source": [
    "class SampleStrategy(Engine):\n",
    "    def __init__(self, path):\n",
    "        super().__init__(path)\n",
    "        self.close_px = {}\n",
    "        self.contracts = {}\n",
    "        self.is_long = False\n",
    "        self.is_short = False\n",
    "        self.ma_20 = None\n",
    "        self.ma_10 = None\n",
    "        \n",
    "        return\n",
    "    \n",
    "    def checkAllCondition(self):\n",
    "        self.longCondition()\n",
    "        self.ShortCondition()\n",
    "        self.exit()\n",
    "        return\n",
    "    \n",
    "    def Current_Bar(self):\n",
    "        super().Current_Bar()\n",
    "\n",
    "        flag = False\n",
    "\n",
    "        for b in self.curr_bar:\n",
    "            self.close_px.setdefault(b.contract_name,None) \n",
    "            \n",
    "            if self.close_px[b.contract_name] is None:\n",
    "                self.close_px[b.contract_name]=[]\n",
    "                     \n",
    "            if not np.isnan(b.close):\n",
    "                self.close_px[b.contract_name].append(b.close)\n",
    "                flag=True\n",
    "                # print(b.log_time,b.contract_name,b.close)\n",
    "\n",
    "        if flag:\n",
    "            self.checkAllCondition()\n",
    "        return\n",
    "    \n",
    "    def longCondition(self):\n",
    "        super().longCondition()\n",
    "        if self.is_long:\n",
    "            self.tradeExecution('NSE_BANKNIFTY_100_C_4640000',0)\n",
    "            return\n",
    "        # if not self.close_px['NSE_BANKNIFTY_100_C_4640000'][:-1] is None:\n",
    "        #     print(self.close_px['NSE_BANKNIFTY_100_C_4640000'][:-1])\n",
    "        self.is_long=True\n",
    "        self.tradeExecution('NSE_BANKNIFTY_100_C_4650000',2)\n",
    "        return\n",
    "    \n",
    "    def ShortCondition(self):\n",
    "        super().ShortCondition()\n",
    "        self.is_short = True\n",
    "        if self.is_short :\n",
    "            return\n",
    "        self.tradeExecution('NSE_BANKNIFTY_100_C_4640000',-1)\n",
    "        return\n",
    "    \n",
    "    def exit(self):\n",
    "        super().exit()\n",
    "        if not self.is_long and not self.is_short:\n",
    "            return\n",
    "        \n",
    "        return\n",
    "    \n",
    "    # def Backtesting(self, start_date, end_date, config: dict):\n",
    "    #     super().Backtesting(start_date, end_date, config)\n",
    "    #     return\n",
    "    \n",
    "\n",
    "    \n"
   ]
  },
  {
   "cell_type": "code",
   "execution_count": 4,
   "metadata": {},
   "outputs": [],
   "source": [
    "config = {\n",
    "    'stock' : ['BANKNIFTY'],\n",
    "    'exp_code' : ['0','100'],\n",
    "}"
   ]
  },
  {
   "cell_type": "code",
   "execution_count": 5,
   "metadata": {},
   "outputs": [
    {
     "name": "stdout",
     "output_type": "stream",
     "text": [
      "Total Pnl of the strategy is  -161510.0\n"
     ]
    }
   ],
   "source": [
    "strat = SampleStrategy(path)\n",
    "start = '2024-06-03'\n",
    "\n",
    "strat.Backtesting(start,start,config=config)\n"
   ]
  }
 ],
 "metadata": {
  "kernelspec": {
   "display_name": "Python 3",
   "language": "python",
   "name": "python3"
  },
  "language_info": {
   "codemirror_mode": {
    "name": "ipython",
    "version": 3
   },
   "file_extension": ".py",
   "mimetype": "text/x-python",
   "name": "python",
   "nbconvert_exporter": "python",
   "pygments_lexer": "ipython3",
   "version": "3.12.4"
  }
 },
 "nbformat": 4,
 "nbformat_minor": 2
}
